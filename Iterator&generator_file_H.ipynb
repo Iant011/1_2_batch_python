{
 "cells": [
  {
   "cell_type": "code",
   "execution_count": 1,
   "id": "4b4ffa08",
   "metadata": {},
   "outputs": [],
   "source": [
    "# int obj is not iterable --> it cant be iterator"
   ]
  },
  {
   "cell_type": "code",
   "execution_count": 2,
   "id": "23e23ec6",
   "metadata": {},
   "outputs": [],
   "source": [
    "# str obj is iterable --> it can be converted into iterator"
   ]
  },
  {
   "cell_type": "code",
   "execution_count": 3,
   "id": "d0a98240",
   "metadata": {},
   "outputs": [],
   "source": [
    "# when we have multiple diff datasets which is stored in any list or tuple so we can iterate it"
   ]
  },
  {
   "cell_type": "markdown",
   "id": "dd81b56a",
   "metadata": {},
   "source": [
    "# Generator"
   ]
  },
  {
   "cell_type": "code",
   "execution_count": 5,
   "id": "39ec64e9",
   "metadata": {},
   "outputs": [
    {
     "data": {
      "text/plain": [
       "range(0, 45, 3)"
      ]
     },
     "execution_count": 5,
     "metadata": {},
     "output_type": "execute_result"
    }
   ],
   "source": [
    "range(0,45,3)"
   ]
  },
  {
   "cell_type": "code",
   "execution_count": 6,
   "id": "a93149ed",
   "metadata": {},
   "outputs": [
    {
     "data": {
      "text/plain": [
       "[0, 3, 6, 9, 12, 15, 18, 21, 24, 27, 30, 33, 36, 39, 42]"
      ]
     },
     "execution_count": 6,
     "metadata": {},
     "output_type": "execute_result"
    }
   ],
   "source": [
    "list(range(0,45,3))"
   ]
  },
  {
   "cell_type": "code",
   "execution_count": 7,
   "id": "689cffec",
   "metadata": {},
   "outputs": [],
   "source": [
    "def gem (n):\n",
    "    l = []\n",
    "    for i in range(n):\n",
    "        l.append(i**2)\n",
    "    return l"
   ]
  },
  {
   "cell_type": "code",
   "execution_count": 15,
   "id": "77e93a2e",
   "metadata": {},
   "outputs": [
    {
     "data": {
      "text/plain": [
       "[0,\n",
       " 1,\n",
       " 4,\n",
       " 9,\n",
       " 16,\n",
       " 25,\n",
       " 36,\n",
       " 49,\n",
       " 64,\n",
       " 81,\n",
       " 100,\n",
       " 121,\n",
       " 144,\n",
       " 169,\n",
       " 196,\n",
       " 225,\n",
       " 256,\n",
       " 289,\n",
       " 324,\n",
       " 361,\n",
       " 400,\n",
       " 441,\n",
       " 484,\n",
       " 529,\n",
       " 576,\n",
       " 625,\n",
       " 676,\n",
       " 729,\n",
       " 784,\n",
       " 841,\n",
       " 900,\n",
       " 961,\n",
       " 1024,\n",
       " 1089,\n",
       " 1156,\n",
       " 1225,\n",
       " 1296,\n",
       " 1369,\n",
       " 1444,\n",
       " 1521,\n",
       " 1600,\n",
       " 1681,\n",
       " 1764,\n",
       " 1849,\n",
       " 1936,\n",
       " 2025,\n",
       " 2116,\n",
       " 2209,\n",
       " 2304,\n",
       " 2401]"
      ]
     },
     "execution_count": 15,
     "metadata": {},
     "output_type": "execute_result"
    }
   ],
   "source": [
    "gem(50)"
   ]
  },
  {
   "cell_type": "code",
   "execution_count": 20,
   "id": "1906923f",
   "metadata": {},
   "outputs": [],
   "source": [
    "def gem (n):\n",
    "    for i in range(n):\n",
    "        yield i**2"
   ]
  },
  {
   "cell_type": "code",
   "execution_count": 23,
   "id": "2b5c4179",
   "metadata": {},
   "outputs": [
    {
     "data": {
      "text/plain": [
       "<generator object gem at 0x000002A950CA2B90>"
      ]
     },
     "execution_count": 23,
     "metadata": {},
     "output_type": "execute_result"
    }
   ],
   "source": [
    "gem(30)"
   ]
  },
  {
   "cell_type": "code",
   "execution_count": null,
   "id": "f62a1318",
   "metadata": {},
   "outputs": [],
   "source": []
  },
  {
   "cell_type": "code",
   "execution_count": 24,
   "id": "c38b711e",
   "metadata": {},
   "outputs": [
    {
     "name": "stdout",
     "output_type": "stream",
     "text": [
      "0\n",
      "1\n",
      "4\n",
      "9\n",
      "16\n",
      "25\n",
      "36\n",
      "49\n",
      "64\n",
      "81\n",
      "100\n",
      "121\n",
      "144\n",
      "169\n",
      "196\n",
      "225\n",
      "256\n",
      "289\n",
      "324\n",
      "361\n",
      "400\n",
      "441\n",
      "484\n",
      "529\n",
      "576\n",
      "625\n",
      "676\n",
      "729\n",
      "784\n",
      "841\n",
      "900\n",
      "961\n",
      "1024\n",
      "1089\n",
      "1156\n",
      "1225\n",
      "1296\n",
      "1369\n",
      "1444\n",
      "1521\n"
     ]
    }
   ],
   "source": [
    "for i in gem(40):\n",
    "    print(i)"
   ]
  },
  {
   "cell_type": "code",
   "execution_count": 34,
   "id": "c5f45784",
   "metadata": {},
   "outputs": [],
   "source": [
    "def IANT1(k):\n",
    "    for i in range(k):\n",
    "        yield i + 2 "
   ]
  },
  {
   "cell_type": "code",
   "execution_count": 35,
   "id": "a22a7c44",
   "metadata": {},
   "outputs": [
    {
     "data": {
      "text/plain": [
       "<generator object IANT1 at 0x000002A95EA48190>"
      ]
     },
     "execution_count": 35,
     "metadata": {},
     "output_type": "execute_result"
    }
   ],
   "source": [
    "IANT1(10)"
   ]
  },
  {
   "cell_type": "code",
   "execution_count": 36,
   "id": "50872f3f",
   "metadata": {},
   "outputs": [
    {
     "name": "stdout",
     "output_type": "stream",
     "text": [
      "2\n",
      "3\n",
      "4\n",
      "5\n",
      "6\n",
      "7\n",
      "8\n",
      "9\n",
      "10\n",
      "11\n",
      "12\n",
      "13\n",
      "14\n",
      "15\n",
      "16\n",
      "17\n",
      "18\n",
      "19\n",
      "20\n",
      "21\n"
     ]
    }
   ],
   "source": [
    "for i in IANT1(20):\n",
    "    print(i)"
   ]
  },
  {
   "cell_type": "code",
   "execution_count": 39,
   "id": "d72141b2",
   "metadata": {},
   "outputs": [
    {
     "name": "stdout",
     "output_type": "stream",
     "text": [
      " Volume in drive C is Windows\n",
      " Volume Serial Number is BAE7-516A\n",
      "\n",
      " Directory of C:\\Users\\ROCKSTAR\\Documents\\Iant\\Data_science\\Python\\Python advanced\\CD_impliment\\1-2_online_batch\n",
      "\n",
      "09/05/2023  13:46    <DIR>          .\n",
      "09/05/2023  13:46    <DIR>          ..\n",
      "09/05/2023  13:46    <DIR>          .ipynb_checkpoints\n",
      "09/05/2023  13:46             6,579 Iterator&generator_file.ipynb\n",
      "               1 File(s)          6,579 bytes\n",
      "               3 Dir(s)  184,611,913,728 bytes free\n"
     ]
    }
   ],
   "source": [
    "%ls"
   ]
  },
  {
   "cell_type": "code",
   "execution_count": 40,
   "id": "87d196ef",
   "metadata": {},
   "outputs": [
    {
     "data": {
      "text/plain": [
       "'C:\\\\Users\\\\ROCKSTAR\\\\Documents\\\\Iant\\\\Data_science\\\\Python\\\\Python advanced\\\\CD_impliment\\\\1-2_online_batch'"
      ]
     },
     "execution_count": 40,
     "metadata": {},
     "output_type": "execute_result"
    }
   ],
   "source": [
    "pwd()"
   ]
  },
  {
   "cell_type": "code",
   "execution_count": 41,
   "id": "873bf544",
   "metadata": {},
   "outputs": [],
   "source": [
    "f = open('text1', 'w')    #write"
   ]
  },
  {
   "cell_type": "code",
   "execution_count": 42,
   "id": "afff4cab",
   "metadata": {},
   "outputs": [
    {
     "data": {
      "text/plain": [
       "38"
      ]
     },
     "execution_count": 42,
     "metadata": {},
     "output_type": "execute_result"
    }
   ],
   "source": [
    "f.write(\"This is my first file writing in text1\")"
   ]
  },
  {
   "cell_type": "code",
   "execution_count": 43,
   "id": "35c9976a",
   "metadata": {},
   "outputs": [],
   "source": [
    "f.close()"
   ]
  },
  {
   "cell_type": "code",
   "execution_count": 44,
   "id": "541eff22",
   "metadata": {},
   "outputs": [],
   "source": [
    "f = open('text1')"
   ]
  },
  {
   "cell_type": "code",
   "execution_count": 45,
   "id": "127c1469",
   "metadata": {},
   "outputs": [
    {
     "data": {
      "text/plain": [
       "'This is my first file writing in text1'"
      ]
     },
     "execution_count": 45,
     "metadata": {},
     "output_type": "execute_result"
    }
   ],
   "source": [
    "f.read()"
   ]
  },
  {
   "cell_type": "code",
   "execution_count": 46,
   "id": "9e81d13e",
   "metadata": {},
   "outputs": [
    {
     "ename": "UnsupportedOperation",
     "evalue": "not writable",
     "output_type": "error",
     "traceback": [
      "\u001b[1;31m---------------------------------------------------------------------------\u001b[0m",
      "\u001b[1;31mUnsupportedOperation\u001b[0m                      Traceback (most recent call last)",
      "Cell \u001b[1;32mIn[46], line 1\u001b[0m\n\u001b[1;32m----> 1\u001b[0m \u001b[43mf\u001b[49m\u001b[38;5;241;43m.\u001b[39;49m\u001b[43mwrite\u001b[49m\u001b[43m(\u001b[49m\u001b[38;5;124;43m'\u001b[39;49m\u001b[38;5;124;43mJSdbjvh\u001b[39;49m\u001b[38;5;124;43m'\u001b[39;49m\u001b[43m)\u001b[49m\n",
      "\u001b[1;31mUnsupportedOperation\u001b[0m: not writable"
     ]
    }
   ],
   "source": [
    "f.write('JSdbjvh')"
   ]
  },
  {
   "cell_type": "code",
   "execution_count": 47,
   "id": "4c789cbe",
   "metadata": {},
   "outputs": [],
   "source": [
    "f = open('text1', 'r+')          # both read and write permisiion"
   ]
  },
  {
   "cell_type": "code",
   "execution_count": 48,
   "id": "6d8a5307",
   "metadata": {},
   "outputs": [
    {
     "data": {
      "text/plain": [
       "'This is my first file writing in text1'"
      ]
     },
     "execution_count": 48,
     "metadata": {},
     "output_type": "execute_result"
    }
   ],
   "source": [
    "f.read()"
   ]
  },
  {
   "cell_type": "code",
   "execution_count": 49,
   "id": "fb7d25cb",
   "metadata": {},
   "outputs": [
    {
     "data": {
      "text/plain": [
       "9"
      ]
     },
     "execution_count": 49,
     "metadata": {},
     "output_type": "execute_result"
    }
   ],
   "source": [
    "f.write('FJSKhbjbf')"
   ]
  },
  {
   "cell_type": "code",
   "execution_count": 51,
   "id": "24719847",
   "metadata": {},
   "outputs": [],
   "source": [
    "f.close()"
   ]
  },
  {
   "cell_type": "code",
   "execution_count": null,
   "id": "166c673f",
   "metadata": {},
   "outputs": [],
   "source": []
  },
  {
   "cell_type": "code",
   "execution_count": 53,
   "id": "95643e24",
   "metadata": {},
   "outputs": [],
   "source": [
    "f = open('text1','r+')"
   ]
  },
  {
   "cell_type": "code",
   "execution_count": 54,
   "id": "47ea8e4b",
   "metadata": {},
   "outputs": [
    {
     "data": {
      "text/plain": [
       "'This is my first file writing in text1FJSKhbjbf'"
      ]
     },
     "execution_count": 54,
     "metadata": {},
     "output_type": "execute_result"
    }
   ],
   "source": [
    "f.read()"
   ]
  },
  {
   "cell_type": "code",
   "execution_count": 55,
   "id": "5ab0cb62",
   "metadata": {},
   "outputs": [
    {
     "data": {
      "text/plain": [
       "''"
      ]
     },
     "execution_count": 55,
     "metadata": {},
     "output_type": "execute_result"
    }
   ],
   "source": [
    "f.read()"
   ]
  },
  {
   "cell_type": "code",
   "execution_count": 57,
   "id": "c359005a",
   "metadata": {},
   "outputs": [
    {
     "data": {
      "text/plain": [
       "0"
      ]
     },
     "execution_count": 57,
     "metadata": {},
     "output_type": "execute_result"
    }
   ],
   "source": [
    "f.seek(0)"
   ]
  },
  {
   "cell_type": "code",
   "execution_count": 58,
   "id": "0e3bd37c",
   "metadata": {},
   "outputs": [
    {
     "data": {
      "text/plain": [
       "'This is my first file writing in text1FJSKhbjbf'"
      ]
     },
     "execution_count": 58,
     "metadata": {},
     "output_type": "execute_result"
    }
   ],
   "source": [
    "f.read()"
   ]
  },
  {
   "cell_type": "code",
   "execution_count": 59,
   "id": "d67c780a",
   "metadata": {},
   "outputs": [
    {
     "data": {
      "text/plain": [
       "5"
      ]
     },
     "execution_count": 59,
     "metadata": {},
     "output_type": "execute_result"
    }
   ],
   "source": [
    "f.seek(5)"
   ]
  },
  {
   "cell_type": "code",
   "execution_count": 60,
   "id": "48cd3af5",
   "metadata": {},
   "outputs": [
    {
     "data": {
      "text/plain": [
       "'is my first file writing in text1FJSKhbjbf'"
      ]
     },
     "execution_count": 60,
     "metadata": {},
     "output_type": "execute_result"
    }
   ],
   "source": [
    "f.read()"
   ]
  },
  {
   "cell_type": "code",
   "execution_count": 61,
   "id": "108b40da",
   "metadata": {},
   "outputs": [],
   "source": [
    "f.close()"
   ]
  },
  {
   "cell_type": "code",
   "execution_count": 62,
   "id": "b80815b7",
   "metadata": {},
   "outputs": [],
   "source": [
    "f = open('text1', 'r+')"
   ]
  },
  {
   "cell_type": "code",
   "execution_count": 63,
   "id": "46004319",
   "metadata": {},
   "outputs": [
    {
     "data": {
      "text/plain": [
       "'This is my first file writing in text1FJSKhbjbf'"
      ]
     },
     "execution_count": 63,
     "metadata": {},
     "output_type": "execute_result"
    }
   ],
   "source": [
    "f.read()"
   ]
  },
  {
   "cell_type": "code",
   "execution_count": 64,
   "id": "4dd3b9b7",
   "metadata": {},
   "outputs": [
    {
     "data": {
      "text/plain": [
       "''"
      ]
     },
     "execution_count": 64,
     "metadata": {},
     "output_type": "execute_result"
    }
   ],
   "source": [
    "f.read()"
   ]
  },
  {
   "cell_type": "code",
   "execution_count": 65,
   "id": "a4cd9c02",
   "metadata": {},
   "outputs": [
    {
     "data": {
      "text/plain": [
       "0"
      ]
     },
     "execution_count": 65,
     "metadata": {},
     "output_type": "execute_result"
    }
   ],
   "source": [
    "f.seek(0)"
   ]
  },
  {
   "cell_type": "code",
   "execution_count": 66,
   "id": "9d557f2b",
   "metadata": {},
   "outputs": [
    {
     "data": {
      "text/plain": [
       "'This is my first file writing in text1FJSKhbjbf'"
      ]
     },
     "execution_count": 66,
     "metadata": {},
     "output_type": "execute_result"
    }
   ],
   "source": [
    "f.read()"
   ]
  },
  {
   "cell_type": "code",
   "execution_count": 67,
   "id": "93b09b8d",
   "metadata": {},
   "outputs": [
    {
     "data": {
      "text/plain": [
       "5"
      ]
     },
     "execution_count": 67,
     "metadata": {},
     "output_type": "execute_result"
    }
   ],
   "source": [
    "f.seek(5)"
   ]
  },
  {
   "cell_type": "code",
   "execution_count": 68,
   "id": "24243e47",
   "metadata": {},
   "outputs": [
    {
     "data": {
      "text/plain": [
       "'is my first file writing in text1FJSKhbjbf'"
      ]
     },
     "execution_count": 68,
     "metadata": {},
     "output_type": "execute_result"
    }
   ],
   "source": [
    "f.read()"
   ]
  },
  {
   "cell_type": "code",
   "execution_count": 69,
   "id": "0d1e1abd",
   "metadata": {},
   "outputs": [
    {
     "data": {
      "text/plain": [
       "47"
      ]
     },
     "execution_count": 69,
     "metadata": {},
     "output_type": "execute_result"
    }
   ],
   "source": [
    "f.tell()"
   ]
  },
  {
   "cell_type": "code",
   "execution_count": 70,
   "id": "6c245a62",
   "metadata": {},
   "outputs": [
    {
     "data": {
      "text/plain": [
       "0"
      ]
     },
     "execution_count": 70,
     "metadata": {},
     "output_type": "execute_result"
    }
   ],
   "source": [
    "f.seek(0)"
   ]
  },
  {
   "cell_type": "code",
   "execution_count": 71,
   "id": "464736c0",
   "metadata": {},
   "outputs": [
    {
     "data": {
      "text/plain": [
       "0"
      ]
     },
     "execution_count": 71,
     "metadata": {},
     "output_type": "execute_result"
    }
   ],
   "source": [
    "f.tell()"
   ]
  },
  {
   "cell_type": "code",
   "execution_count": 72,
   "id": "6d894b39",
   "metadata": {},
   "outputs": [
    {
     "data": {
      "text/plain": [
       "'This is my first file writing in text1FJSKhbjbf'"
      ]
     },
     "execution_count": 72,
     "metadata": {},
     "output_type": "execute_result"
    }
   ],
   "source": [
    "f.readline()"
   ]
  },
  {
   "cell_type": "code",
   "execution_count": 73,
   "id": "60f221d9",
   "metadata": {},
   "outputs": [],
   "source": [
    "f.close()"
   ]
  },
  {
   "cell_type": "code",
   "execution_count": 76,
   "id": "27f144cd",
   "metadata": {},
   "outputs": [],
   "source": [
    "f = open('Google_data', 'w')"
   ]
  },
  {
   "cell_type": "code",
   "execution_count": 77,
   "id": "f9ae1811",
   "metadata": {},
   "outputs": [
    {
     "data": {
      "text/plain": [
       "3013"
      ]
     },
     "execution_count": 77,
     "metadata": {},
     "output_type": "execute_result"
    }
   ],
   "source": [
    "f.write(\"\"\"Google LLC is an American multinational technology company that specializes in\n",
    "Internet-related services and products, which include online advertising\n",
    "technologies, a search engine, cloud computing, software, and hardware. It is\n",
    "considered one of the Big Five companies in the American information technology\n",
    "industry, along with Amazon, Apple, Meta (Facebook) and Microsoft.[10]\\n\\nGoogle\n",
    "was founded on September 4, 1998, by Larry Page and Sergey Brin while they were\n",
    "Ph.D. students at Stanford University in California. Together they own about 14%\n",
    "of its publicly-listed shares and control 56% of the stockholder voting power\n",
    "through super-voting stock. The company went public via an initial public\n",
    "offering (IPO) in 2004. In 2015, Google was reorganized as a wholly-owned\n",
    "subsidiary of Alphabet Inc.. Google is Alphabet's largest subsidiary and is aholding company for Alphabet's Internet properties and interests. Sundar Pichai was appointed CEO of Google on October 24, 2015, replacing Larry Page, who became the CEO of Alphabet. On December 3, 2019, Pichai also became the CEO of Alphabet. [11] \\n\\nIn 2021, the Alphabet Workers Union was founded, mainly composed of Google employees. [12] \\n\\nThe company's rapid growth since incorporation has included products, acquisitions, and partnerships beyond Google's core search engine, (Google Search). It offers services designed for work and productivity (Google Docs, Google Sheets, and Google Slides), email (Gmail), scheduling and time management (Google Calendar), cloud storage (Google Drive), instant messaging and video chat (Google Duo, Google Chat, and Google Meet), language translation (Google Translate), mapping and navigation (Google Maps, Waze, Google Earth, and Street View), podcast hosting (Google Podcasts), video sharing (YouTube), blog publishing (Blogger), note-taking (Google Keep and Jamboard), and photo organizing and editing (Google Photos). The company leads the development of the Android mobile operating system, the Google Chrome web browser, and Chrome OS (a lightweight, proprietary operating system based on the free and open-source Chromium OS operating system). Google has moved increasingly into hardware; from 2010 to 2015, it partnered with major electronics manufacturers in the production of its Google Nexus devices, and it released multiple hardware products in 2016, including the Google Pixel line of smartphones, Google Home smart speaker, Google Wifi mesh wireless router. Google has also experimented with becoming an Internet carrier (Google Fiber and Google Fi).\\n\\nGoogle.com is the most visited website worldwide. Several other Google- owned websites also are on the list of most popular websites, including YouTube and Blogger. [13] On the list of most valuable brands, Google is ranked second by Forbes [14] and fourth by Interbrand. [15] It has received significant criticism involving issues such as privacy concerns, tax avoidance, censorship, search neutrality, antitrust and abuse of its monopoly position.\"\"\")"
   ]
  },
  {
   "cell_type": "code",
   "execution_count": 78,
   "id": "c2797ff6",
   "metadata": {},
   "outputs": [],
   "source": [
    "f.close()"
   ]
  },
  {
   "cell_type": "code",
   "execution_count": 79,
   "id": "1270d4a6",
   "metadata": {},
   "outputs": [],
   "source": [
    "f = open('Google_data' , 'r+')"
   ]
  },
  {
   "cell_type": "code",
   "execution_count": 80,
   "id": "4b1f7ae0",
   "metadata": {},
   "outputs": [
    {
     "data": {
      "text/plain": [
       "\"Google LLC is an American multinational technology company that specializes in\\nInternet-related services and products, which include online advertising\\ntechnologies, a search engine, cloud computing, software, and hardware. It is\\nconsidered one of the Big Five companies in the American information technology\\nindustry, along with Amazon, Apple, Meta (Facebook) and Microsoft.[10]\\n\\nGoogle\\nwas founded on September 4, 1998, by Larry Page and Sergey Brin while they were\\nPh.D. students at Stanford University in California. Together they own about 14%\\nof its publicly-listed shares and control 56% of the stockholder voting power\\nthrough super-voting stock. The company went public via an initial public\\noffering (IPO) in 2004. In 2015, Google was reorganized as a wholly-owned\\nsubsidiary of Alphabet Inc.. Google is Alphabet's largest subsidiary and is aholding company for Alphabet's Internet properties and interests. Sundar Pichai was appointed CEO of Google on October 24, 2015, replacing Larry Page, who became the CEO of Alphabet. On December 3, 2019, Pichai also became the CEO of Alphabet. [11] \\n\\nIn 2021, the Alphabet Workers Union was founded, mainly composed of Google employees. [12] \\n\\nThe company's rapid growth since incorporation has included products, acquisitions, and partnerships beyond Google's core search engine, (Google Search). It offers services designed for work and productivity (Google Docs, Google Sheets, and Google Slides), email (Gmail), scheduling and time management (Google Calendar), cloud storage (Google Drive), instant messaging and video chat (Google Duo, Google Chat, and Google Meet), language translation (Google Translate), mapping and navigation (Google Maps, Waze, Google Earth, and Street View), podcast hosting (Google Podcasts), video sharing (YouTube), blog publishing (Blogger), note-taking (Google Keep and Jamboard), and photo organizing and editing (Google Photos). The company leads the development of the Android mobile operating system, the Google Chrome web browser, and Chrome OS (a lightweight, proprietary operating system based on the free and open-source Chromium OS operating system). Google has moved increasingly into hardware; from 2010 to 2015, it partnered with major electronics manufacturers in the production of its Google Nexus devices, and it released multiple hardware products in 2016, including the Google Pixel line of smartphones, Google Home smart speaker, Google Wifi mesh wireless router. Google has also experimented with becoming an Internet carrier (Google Fiber and Google Fi).\\n\\nGoogle.com is the most visited website worldwide. Several other Google- owned websites also are on the list of most popular websites, including YouTube and Blogger. [13] On the list of most valuable brands, Google is ranked second by Forbes [14] and fourth by Interbrand. [15] It has received significant criticism involving issues such as privacy concerns, tax avoidance, censorship, search neutrality, antitrust and abuse of its monopoly position.\""
      ]
     },
     "execution_count": 80,
     "metadata": {},
     "output_type": "execute_result"
    }
   ],
   "source": [
    "f.read()"
   ]
  },
  {
   "cell_type": "code",
   "execution_count": 81,
   "id": "a0cd3e43",
   "metadata": {},
   "outputs": [
    {
     "data": {
      "text/plain": [
       "''"
      ]
     },
     "execution_count": 81,
     "metadata": {},
     "output_type": "execute_result"
    }
   ],
   "source": [
    "f.read()"
   ]
  },
  {
   "cell_type": "code",
   "execution_count": 82,
   "id": "8fb7bbe5",
   "metadata": {},
   "outputs": [
    {
     "data": {
      "text/plain": [
       "0"
      ]
     },
     "execution_count": 82,
     "metadata": {},
     "output_type": "execute_result"
    }
   ],
   "source": [
    "f.seek(0)"
   ]
  },
  {
   "cell_type": "code",
   "execution_count": 83,
   "id": "cf601c83",
   "metadata": {},
   "outputs": [
    {
     "data": {
      "text/plain": [
       "'Google LLC is an American multinational technology company that specializes in\\n'"
      ]
     },
     "execution_count": 83,
     "metadata": {},
     "output_type": "execute_result"
    }
   ],
   "source": [
    "f.readline()"
   ]
  },
  {
   "cell_type": "code",
   "execution_count": 84,
   "id": "80afaa2e",
   "metadata": {},
   "outputs": [
    {
     "data": {
      "text/plain": [
       "'Internet-related services and products, which include online advertising\\n'"
      ]
     },
     "execution_count": 84,
     "metadata": {},
     "output_type": "execute_result"
    }
   ],
   "source": [
    "f.readline()"
   ]
  },
  {
   "cell_type": "code",
   "execution_count": 85,
   "id": "88945f18",
   "metadata": {},
   "outputs": [
    {
     "data": {
      "text/plain": [
       "'technologies, a search engine, cloud computing, software, and hardware. It is\\n'"
      ]
     },
     "execution_count": 85,
     "metadata": {},
     "output_type": "execute_result"
    }
   ],
   "source": [
    "f.readline()"
   ]
  },
  {
   "cell_type": "code",
   "execution_count": 86,
   "id": "5d28c86f",
   "metadata": {},
   "outputs": [
    {
     "data": {
      "text/plain": [
       "'considered one of the Big Five companies in the American information technology\\n'"
      ]
     },
     "execution_count": 86,
     "metadata": {},
     "output_type": "execute_result"
    }
   ],
   "source": [
    "f.readline()"
   ]
  },
  {
   "cell_type": "code",
   "execution_count": 87,
   "id": "27b30ee3",
   "metadata": {},
   "outputs": [
    {
     "data": {
      "text/plain": [
       "'industry, along with Amazon, Apple, Meta (Facebook) and Microsoft.[10]\\n'"
      ]
     },
     "execution_count": 87,
     "metadata": {},
     "output_type": "execute_result"
    }
   ],
   "source": [
    "f.readline()"
   ]
  },
  {
   "cell_type": "code",
   "execution_count": 88,
   "id": "23b8a1fb",
   "metadata": {},
   "outputs": [
    {
     "data": {
      "text/plain": [
       "'\\n'"
      ]
     },
     "execution_count": 88,
     "metadata": {},
     "output_type": "execute_result"
    }
   ],
   "source": [
    "f.readline()"
   ]
  },
  {
   "cell_type": "code",
   "execution_count": 89,
   "id": "8c228661",
   "metadata": {},
   "outputs": [
    {
     "data": {
      "text/plain": [
       "'Google\\n'"
      ]
     },
     "execution_count": 89,
     "metadata": {},
     "output_type": "execute_result"
    }
   ],
   "source": [
    "f.readline()"
   ]
  },
  {
   "cell_type": "code",
   "execution_count": 90,
   "id": "dff06865",
   "metadata": {},
   "outputs": [
    {
     "data": {
      "text/plain": [
       "'was founded on September 4, 1998, by Larry Page and Sergey Brin while they were\\n'"
      ]
     },
     "execution_count": 90,
     "metadata": {},
     "output_type": "execute_result"
    }
   ],
   "source": [
    "f.readline()"
   ]
  },
  {
   "cell_type": "code",
   "execution_count": 91,
   "id": "d2640cf5",
   "metadata": {},
   "outputs": [
    {
     "data": {
      "text/plain": [
       "'Ph.D. students at Stanford University in California. Together they own about 14%\\n'"
      ]
     },
     "execution_count": 91,
     "metadata": {},
     "output_type": "execute_result"
    }
   ],
   "source": [
    "f.readline()"
   ]
  },
  {
   "cell_type": "code",
   "execution_count": 92,
   "id": "8c1895a1",
   "metadata": {},
   "outputs": [
    {
     "data": {
      "text/plain": [
       "559"
      ]
     },
     "execution_count": 92,
     "metadata": {},
     "output_type": "execute_result"
    }
   ],
   "source": [
    "f.tell()"
   ]
  },
  {
   "cell_type": "code",
   "execution_count": 93,
   "id": "5caca9e2",
   "metadata": {},
   "outputs": [
    {
     "data": {
      "text/plain": [
       "0"
      ]
     },
     "execution_count": 93,
     "metadata": {},
     "output_type": "execute_result"
    }
   ],
   "source": [
    "f.seek(0)"
   ]
  },
  {
   "cell_type": "code",
   "execution_count": 94,
   "id": "499ce2c4",
   "metadata": {},
   "outputs": [
    {
     "data": {
      "text/plain": [
       "['Google LLC is an American multinational technology company that specializes in\\n',\n",
       " 'Internet-related services and products, which include online advertising\\n',\n",
       " 'technologies, a search engine, cloud computing, software, and hardware. It is\\n',\n",
       " 'considered one of the Big Five companies in the American information technology\\n',\n",
       " 'industry, along with Amazon, Apple, Meta (Facebook) and Microsoft.[10]\\n',\n",
       " '\\n',\n",
       " 'Google\\n',\n",
       " 'was founded on September 4, 1998, by Larry Page and Sergey Brin while they were\\n',\n",
       " 'Ph.D. students at Stanford University in California. Together they own about 14%\\n',\n",
       " 'of its publicly-listed shares and control 56% of the stockholder voting power\\n',\n",
       " 'through super-voting stock. The company went public via an initial public\\n',\n",
       " 'offering (IPO) in 2004. In 2015, Google was reorganized as a wholly-owned\\n',\n",
       " \"subsidiary of Alphabet Inc.. Google is Alphabet's largest subsidiary and is aholding company for Alphabet's Internet properties and interests. Sundar Pichai was appointed CEO of Google on October 24, 2015, replacing Larry Page, who became the CEO of Alphabet. On December 3, 2019, Pichai also became the CEO of Alphabet. [11] \\n\",\n",
       " '\\n',\n",
       " 'In 2021, the Alphabet Workers Union was founded, mainly composed of Google employees. [12] \\n',\n",
       " '\\n',\n",
       " \"The company's rapid growth since incorporation has included products, acquisitions, and partnerships beyond Google's core search engine, (Google Search). It offers services designed for work and productivity (Google Docs, Google Sheets, and Google Slides), email (Gmail), scheduling and time management (Google Calendar), cloud storage (Google Drive), instant messaging and video chat (Google Duo, Google Chat, and Google Meet), language translation (Google Translate), mapping and navigation (Google Maps, Waze, Google Earth, and Street View), podcast hosting (Google Podcasts), video sharing (YouTube), blog publishing (Blogger), note-taking (Google Keep and Jamboard), and photo organizing and editing (Google Photos). The company leads the development of the Android mobile operating system, the Google Chrome web browser, and Chrome OS (a lightweight, proprietary operating system based on the free and open-source Chromium OS operating system). Google has moved increasingly into hardware; from 2010 to 2015, it partnered with major electronics manufacturers in the production of its Google Nexus devices, and it released multiple hardware products in 2016, including the Google Pixel line of smartphones, Google Home smart speaker, Google Wifi mesh wireless router. Google has also experimented with becoming an Internet carrier (Google Fiber and Google Fi).\\n\",\n",
       " '\\n',\n",
       " 'Google.com is the most visited website worldwide. Several other Google- owned websites also are on the list of most popular websites, including YouTube and Blogger. [13] On the list of most valuable brands, Google is ranked second by Forbes [14] and fourth by Interbrand. [15] It has received significant criticism involving issues such as privacy concerns, tax avoidance, censorship, search neutrality, antitrust and abuse of its monopoly position.']"
      ]
     },
     "execution_count": 94,
     "metadata": {},
     "output_type": "execute_result"
    }
   ],
   "source": [
    "f.readlines()"
   ]
  },
  {
   "cell_type": "code",
   "execution_count": 95,
   "id": "b2ce1173",
   "metadata": {},
   "outputs": [
    {
     "data": {
      "text/plain": [
       "[]"
      ]
     },
     "execution_count": 95,
     "metadata": {},
     "output_type": "execute_result"
    }
   ],
   "source": [
    "f.readlines()"
   ]
  },
  {
   "cell_type": "code",
   "execution_count": 96,
   "id": "5d950a8d",
   "metadata": {},
   "outputs": [
    {
     "data": {
      "text/plain": [
       "0"
      ]
     },
     "execution_count": 96,
     "metadata": {},
     "output_type": "execute_result"
    }
   ],
   "source": [
    "f.seek(0)"
   ]
  },
  {
   "cell_type": "code",
   "execution_count": 97,
   "id": "1b40910b",
   "metadata": {},
   "outputs": [],
   "source": [
    "f.close()"
   ]
  },
  {
   "cell_type": "code",
   "execution_count": 107,
   "id": "fd80c69f",
   "metadata": {},
   "outputs": [],
   "source": [
    "f = open('Google_data', 'r+')"
   ]
  },
  {
   "cell_type": "code",
   "execution_count": 113,
   "id": "badc2d8e",
   "metadata": {},
   "outputs": [
    {
     "data": {
      "text/plain": [
       "0"
      ]
     },
     "execution_count": 113,
     "metadata": {},
     "output_type": "execute_result"
    }
   ],
   "source": [
    "f.seek(0)"
   ]
  },
  {
   "cell_type": "code",
   "execution_count": 114,
   "id": "4da4ce9c",
   "metadata": {},
   "outputs": [
    {
     "name": "stdout",
     "output_type": "stream",
     "text": [
      "Google LLC is an American multinational technology company that specializes in\n",
      "Internet-related services and products, which include online advertising\n",
      "technologies, a search engine, cloud computing, software, and hardware. It is\n",
      "considered one of the Big Five companies in the American information technology\n",
      "industry, along with Amazon, Apple, Meta (Facebook) and Microsoft.[10]\n",
      "\n",
      "Google\n",
      "was founded on September 4, 1998, by Larry Page and Sergey Brin while they were\n",
      "Ph.D. students at Stanford University in California. Together they own about 14%\n",
      "of its publicly-listed shares and control 56% of the stockholder voting power\n",
      "through super-voting stock. The company went public via an initial public\n",
      "offering (IPO) in 2004. In 2015, Google was reorganized as a wholly-owned\n",
      "subsidiary of Alphabet Inc.. Google is Alphabet's largest subsidiary and is aholding company for Alphabet's Internet properties and interests. Sundar Pichai was appointed CEO of Google on October 24, 2015, replacing Larry Page, who became the CEO of Alphabet. On December 3, 2019, Pichai also became the CEO of Alphabet. [11] \n",
      "\n",
      "In 2021, the Alphabet Workers Union was founded, mainly composed of Google employees. [12] \n",
      "\n",
      "The company's rapid growth since incorporation has included products, acquisitions, and partnerships beyond Google's core search engine, (Google Search). It offers services designed for work and productivity (Google Docs, Google Sheets, and Google Slides), email (Gmail), scheduling and time management (Google Calendar), cloud storage (Google Drive), instant messaging and video chat (Google Duo, Google Chat, and Google Meet), language translation (Google Translate), mapping and navigation (Google Maps, Waze, Google Earth, and Street View), podcast hosting (Google Podcasts), video sharing (YouTube), blog publishing (Blogger), note-taking (Google Keep and Jamboard), and photo organizing and editing (Google Photos). The company leads the development of the Android mobile operating system, the Google Chrome web browser, and Chrome OS (a lightweight, proprietary operating system based on the free and open-source Chromium OS operating system). Google has moved increasingly into hardware; from 2010 to 2015, it partnered with major electronics manufacturers in the production of its Google Nexus devices, and it released multiple hardware products in 2016, including the Google Pixel line of smartphones, Google Home smart speaker, Google Wifi mesh wireless router. Google has also experimented with becoming an Internet carrier (Google Fiber and Google Fi).\n",
      "\n",
      "Google.com is the most visited website worldwide. Several other Google- owned websites also are on the list of most popular websites, including YouTube and Blogger. [13] On the list of most valuable brands, Google is ranked second by Forbes [14] and fourth by Interbrand. [15] It has received significant criticism involving issues such as privacy concerns, tax avoidance, censorship, search neutrality, antitrust and abuse of its monopoly position."
     ]
    }
   ],
   "source": [
    "for line in f:\n",
    "    print(line, end = '')"
   ]
  },
  {
   "cell_type": "code",
   "execution_count": 115,
   "id": "df12df7d",
   "metadata": {},
   "outputs": [
    {
     "data": {
      "text/plain": [
       "21"
      ]
     },
     "execution_count": 115,
     "metadata": {},
     "output_type": "execute_result"
    }
   ],
   "source": [
    "f.write('THis is my added line')"
   ]
  },
  {
   "cell_type": "code",
   "execution_count": 116,
   "id": "76a978ef",
   "metadata": {},
   "outputs": [
    {
     "data": {
      "text/plain": [
       "0"
      ]
     },
     "execution_count": 116,
     "metadata": {},
     "output_type": "execute_result"
    }
   ],
   "source": [
    "f.seek(0)"
   ]
  },
  {
   "cell_type": "code",
   "execution_count": 117,
   "id": "ee956f0b",
   "metadata": {},
   "outputs": [
    {
     "data": {
      "text/plain": [
       "\"Google LLC is an American multinational technology company that specializes in\\nInternet-related services and products, which include online advertising\\ntechnologies, a search engine, cloud computing, software, and hardware. It is\\nconsidered one of the Big Five companies in the American information technology\\nindustry, along with Amazon, Apple, Meta (Facebook) and Microsoft.[10]\\n\\nGoogle\\nwas founded on September 4, 1998, by Larry Page and Sergey Brin while they were\\nPh.D. students at Stanford University in California. Together they own about 14%\\nof its publicly-listed shares and control 56% of the stockholder voting power\\nthrough super-voting stock. The company went public via an initial public\\noffering (IPO) in 2004. In 2015, Google was reorganized as a wholly-owned\\nsubsidiary of Alphabet Inc.. Google is Alphabet's largest subsidiary and is aholding company for Alphabet's Internet properties and interests. Sundar Pichai was appointed CEO of Google on October 24, 2015, replacing Larry Page, who became the CEO of Alphabet. On December 3, 2019, Pichai also became the CEO of Alphabet. [11] \\n\\nIn 2021, the Alphabet Workers Union was founded, mainly composed of Google employees. [12] \\n\\nThe company's rapid growth since incorporation has included products, acquisitions, and partnerships beyond Google's core search engine, (Google Search). It offers services designed for work and productivity (Google Docs, Google Sheets, and Google Slides), email (Gmail), scheduling and time management (Google Calendar), cloud storage (Google Drive), instant messaging and video chat (Google Duo, Google Chat, and Google Meet), language translation (Google Translate), mapping and navigation (Google Maps, Waze, Google Earth, and Street View), podcast hosting (Google Podcasts), video sharing (YouTube), blog publishing (Blogger), note-taking (Google Keep and Jamboard), and photo organizing and editing (Google Photos). The company leads the development of the Android mobile operating system, the Google Chrome web browser, and Chrome OS (a lightweight, proprietary operating system based on the free and open-source Chromium OS operating system). Google has moved increasingly into hardware; from 2010 to 2015, it partnered with major electronics manufacturers in the production of its Google Nexus devices, and it released multiple hardware products in 2016, including the Google Pixel line of smartphones, Google Home smart speaker, Google Wifi mesh wireless router. Google has also experimented with becoming an Internet carrier (Google Fiber and Google Fi).\\n\\nGoogle.com is the most visited website worldwide. Several other Google- owned websites also are on the list of most popular websites, including YouTube and Blogger. [13] On the list of most valuable brands, Google is ranked second by Forbes [14] and fourth by Interbrand. [15] It has received significant criticism involving issues such as privacy concerns, tax avoidance, censorship, search neutrality, antitrust and abuse of its monopoly position.THis is my added line\""
      ]
     },
     "execution_count": 117,
     "metadata": {},
     "output_type": "execute_result"
    }
   ],
   "source": [
    "f.read()\n"
   ]
  },
  {
   "cell_type": "code",
   "execution_count": 118,
   "id": "fee35f51",
   "metadata": {},
   "outputs": [
    {
     "data": {
      "text/plain": [
       "0"
      ]
     },
     "execution_count": 118,
     "metadata": {},
     "output_type": "execute_result"
    }
   ],
   "source": [
    "f.seek(0)"
   ]
  },
  {
   "cell_type": "code",
   "execution_count": 119,
   "id": "f671c111",
   "metadata": {},
   "outputs": [
    {
     "data": {
      "text/plain": [
       "['Google LLC is an American multinational technology company that specializes in\\n',\n",
       " 'Internet-related services and products, which include online advertising\\n',\n",
       " 'technologies, a search engine, cloud computing, software, and hardware. It is\\n',\n",
       " 'considered one of the Big Five companies in the American information technology\\n',\n",
       " 'industry, along with Amazon, Apple, Meta (Facebook) and Microsoft.[10]\\n',\n",
       " '\\n',\n",
       " 'Google\\n',\n",
       " 'was founded on September 4, 1998, by Larry Page and Sergey Brin while they were\\n',\n",
       " 'Ph.D. students at Stanford University in California. Together they own about 14%\\n',\n",
       " 'of its publicly-listed shares and control 56% of the stockholder voting power\\n',\n",
       " 'through super-voting stock. The company went public via an initial public\\n',\n",
       " 'offering (IPO) in 2004. In 2015, Google was reorganized as a wholly-owned\\n',\n",
       " \"subsidiary of Alphabet Inc.. Google is Alphabet's largest subsidiary and is aholding company for Alphabet's Internet properties and interests. Sundar Pichai was appointed CEO of Google on October 24, 2015, replacing Larry Page, who became the CEO of Alphabet. On December 3, 2019, Pichai also became the CEO of Alphabet. [11] \\n\",\n",
       " '\\n',\n",
       " 'In 2021, the Alphabet Workers Union was founded, mainly composed of Google employees. [12] \\n',\n",
       " '\\n',\n",
       " \"The company's rapid growth since incorporation has included products, acquisitions, and partnerships beyond Google's core search engine, (Google Search). It offers services designed for work and productivity (Google Docs, Google Sheets, and Google Slides), email (Gmail), scheduling and time management (Google Calendar), cloud storage (Google Drive), instant messaging and video chat (Google Duo, Google Chat, and Google Meet), language translation (Google Translate), mapping and navigation (Google Maps, Waze, Google Earth, and Street View), podcast hosting (Google Podcasts), video sharing (YouTube), blog publishing (Blogger), note-taking (Google Keep and Jamboard), and photo organizing and editing (Google Photos). The company leads the development of the Android mobile operating system, the Google Chrome web browser, and Chrome OS (a lightweight, proprietary operating system based on the free and open-source Chromium OS operating system). Google has moved increasingly into hardware; from 2010 to 2015, it partnered with major electronics manufacturers in the production of its Google Nexus devices, and it released multiple hardware products in 2016, including the Google Pixel line of smartphones, Google Home smart speaker, Google Wifi mesh wireless router. Google has also experimented with becoming an Internet carrier (Google Fiber and Google Fi).\\n\",\n",
       " '\\n',\n",
       " 'Google.com is the most visited website worldwide. Several other Google- owned websites also are on the list of most popular websites, including YouTube and Blogger. [13] On the list of most valuable brands, Google is ranked second by Forbes [14] and fourth by Interbrand. [15] It has received significant criticism involving issues such as privacy concerns, tax avoidance, censorship, search neutrality, antitrust and abuse of its monopoly position.THis is my added line']"
      ]
     },
     "execution_count": 119,
     "metadata": {},
     "output_type": "execute_result"
    }
   ],
   "source": [
    "f.readlines()"
   ]
  },
  {
   "cell_type": "code",
   "execution_count": 122,
   "id": "30edb3d2",
   "metadata": {},
   "outputs": [
    {
     "data": {
      "text/plain": [
       "0"
      ]
     },
     "execution_count": 122,
     "metadata": {},
     "output_type": "execute_result"
    }
   ],
   "source": [
    "f.seek(0)"
   ]
  },
  {
   "cell_type": "code",
   "execution_count": 123,
   "id": "9847d039",
   "metadata": {},
   "outputs": [],
   "source": [
    "l = f.readlines()"
   ]
  },
  {
   "cell_type": "code",
   "execution_count": 125,
   "id": "f80782fe",
   "metadata": {},
   "outputs": [],
   "source": [
    "l1 = []\n",
    "for i in l[0].split():\n",
    "    l1.append(i[0])"
   ]
  },
  {
   "cell_type": "code",
   "execution_count": 126,
   "id": "9381f0ea",
   "metadata": {},
   "outputs": [
    {
     "data": {
      "text/plain": [
       "['G', 'L', 'i', 'a', 'A', 'm', 't', 'c', 't', 's', 'i']"
      ]
     },
     "execution_count": 126,
     "metadata": {},
     "output_type": "execute_result"
    }
   ],
   "source": [
    "l1"
   ]
  },
  {
   "cell_type": "code",
   "execution_count": null,
   "id": "9579a447",
   "metadata": {},
   "outputs": [],
   "source": []
  }
 ],
 "metadata": {
  "kernelspec": {
   "display_name": "Python 3 (ipykernel)",
   "language": "python",
   "name": "python3"
  },
  "language_info": {
   "codemirror_mode": {
    "name": "ipython",
    "version": 3
   },
   "file_extension": ".py",
   "mimetype": "text/x-python",
   "name": "python",
   "nbconvert_exporter": "python",
   "pygments_lexer": "ipython3",
   "version": "3.10.9"
  }
 },
 "nbformat": 4,
 "nbformat_minor": 5
}
